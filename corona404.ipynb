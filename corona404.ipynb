{
  "nbformat": 4,
  "nbformat_minor": 0,
  "metadata": {
    "colab": {
      "name": "corona404.ipynb",
      "provenance": [],
      "collapsed_sections": []
    },
    "kernelspec": {
      "name": "python3",
      "display_name": "Python 3"
    }
  },
  "cells": [
    {
      "cell_type": "code",
      "metadata": {
        "id": "aPv6DyFe6Ebl"
      },
      "source": [
        "pip install pmdarima"
      ],
      "execution_count": null,
      "outputs": []
    },
    {
      "cell_type": "code",
      "metadata": {
        "id": "OOR6jxhVuPCA"
      },
      "source": [
        "from sklearn.preprocessing import PolynomialFeatures\r\n",
        "from sklearn.matrics import mean_squared_error\r\n",
        "from "
      ],
      "execution_count": null,
      "outputs": []
    },
    {
      "cell_type": "code",
      "metadata": {
        "id": "PbOzOwn-rxz4"
      },
      "source": [
        "import numpy as np\r\n",
        "import pandas as pd\r\n",
        "import plotly\r\n",
        "import plotly.graph_objs as so\r\n",
        "import matplotlib.pyplot as plt\r\n",
        "from pmdarima.arima import auto_arima"
      ],
      "execution_count": null,
      "outputs": []
    },
    {
      "cell_type": "code",
      "metadata": {
        "id": "QWUSM1ePzMfz",
        "colab": {
          "base_uri": "https://localhost:8080/",
          "height": 230
        },
        "outputId": "66a17902-96c1-4221-af96-fa9a4856f483"
      },
      "source": [
        "data=pd.read_excel('/content/final_dataset.xlsx')\r\n",
        "data.head(2)"
      ],
      "execution_count": null,
      "outputs": [
        {
          "output_type": "execute_result",
          "data": {
            "text/html": [
              "<div>\n",
              "<style scoped>\n",
              "    .dataframe tbody tr th:only-of-type {\n",
              "        vertical-align: middle;\n",
              "    }\n",
              "\n",
              "    .dataframe tbody tr th {\n",
              "        vertical-align: top;\n",
              "    }\n",
              "\n",
              "    .dataframe thead th {\n",
              "        text-align: right;\n",
              "    }\n",
              "</style>\n",
              "<table border=\"1\" class=\"dataframe\">\n",
              "  <thead>\n",
              "    <tr style=\"text-align: right;\">\n",
              "      <th></th>\n",
              "      <th>Unnamed: 0</th>\n",
              "      <th>Participant No</th>\n",
              "      <th>Record Name</th>\n",
              "      <th>Gender</th>\n",
              "      <th>Smoking Status</th>\n",
              "      <th>BMI</th>\n",
              "      <th>Age</th>\n",
              "      <th>reading</th>\n",
              "      <th>Day1</th>\n",
              "      <th>Day2</th>\n",
              "      <th>Day3</th>\n",
              "      <th>Day4</th>\n",
              "      <th>Day5</th>\n",
              "      <th>Day6</th>\n",
              "    </tr>\n",
              "  </thead>\n",
              "  <tbody>\n",
              "    <tr>\n",
              "      <th>0</th>\n",
              "      <td>0</td>\n",
              "      <td>1</td>\n",
              "      <td>301116B</td>\n",
              "      <td>M</td>\n",
              "      <td>Non-Smoker</td>\n",
              "      <td>21.7</td>\n",
              "      <td>20</td>\n",
              "      <td>[93.4, 93.4, 93.4, 93.4, 93.4, 93.4, 93.4, 93....</td>\n",
              "      <td>[93.4, 93.4, 93.4, 93.4, 93.4, 93.4, 93.4, 93....</td>\n",
              "      <td>[93.4, 93.4, 93.4, 93.4, 93.4, 93.4, 93.4, 93....</td>\n",
              "      <td>[92.4, 92.4, 92.4, 92.4, 92.4, 92.4, 92.4, 92....</td>\n",
              "      <td>[93.4, 93.4, 93.4, 93.4, 93.4, 93.4, 93.4, 92....</td>\n",
              "      <td>[92.4, 92.4, 92.4, 92.4, 92.4, 92.4, 92.4, 92....</td>\n",
              "      <td>[93.4, 93.4, 93.4, 93.4, 93.4, 93.4, 93.4, 93....</td>\n",
              "    </tr>\n",
              "    <tr>\n",
              "      <th>1</th>\n",
              "      <td>1</td>\n",
              "      <td>2</td>\n",
              "      <td>301116A</td>\n",
              "      <td>M</td>\n",
              "      <td>Non-Smoker</td>\n",
              "      <td>26.5</td>\n",
              "      <td>42</td>\n",
              "      <td>[93.6, 93.6, 93.2, 92.5, 92.5, 92.5, 92.5, 92....</td>\n",
              "      <td>[93.6, 93.6, 93.2, 92.5, 92.5, 92.5, 92.5, 92....</td>\n",
              "      <td>[91.5, 91.5, 91.5, 91.5, 91.5, 91.5, 92.0, 92....</td>\n",
              "      <td>[93.6, 93.6, 93.6, 93.6, 93.6, 93.6, 93.6, 93....</td>\n",
              "      <td>[92.6, 92.6, 92.6, 92.6, 92.6, 92.6, 92.6, 92....</td>\n",
              "      <td>[91.5, 91.5, 91.5, 91.5, 91.5, 91.5, 91.5, 92....</td>\n",
              "      <td>[92.6, 92.6, 92.6, 92.6, 92.6, 92.6, 92.6, 92....</td>\n",
              "    </tr>\n",
              "  </tbody>\n",
              "</table>\n",
              "</div>"
            ],
            "text/plain": [
              "   Unnamed: 0  ...                                               Day6\n",
              "0           0  ...  [93.4, 93.4, 93.4, 93.4, 93.4, 93.4, 93.4, 93....\n",
              "1           1  ...  [92.6, 92.6, 92.6, 92.6, 92.6, 92.6, 92.6, 92....\n",
              "\n",
              "[2 rows x 14 columns]"
            ]
          },
          "metadata": {
            "tags": []
          },
          "execution_count": 33
        }
      ]
    },
    {
      "cell_type": "code",
      "metadata": {
        "colab": {
          "base_uri": "https://localhost:8080/"
        },
        "id": "0gYs5yL-UO4b",
        "outputId": "214c4271-72ee-47ac-c78e-2d2412e31dfa"
      },
      "source": [
        "data.info()"
      ],
      "execution_count": null,
      "outputs": [
        {
          "output_type": "stream",
          "text": [
            "<class 'pandas.core.frame.DataFrame'>\n",
            "RangeIndex: 36 entries, 0 to 35\n",
            "Data columns (total 14 columns):\n",
            " #   Column          Non-Null Count  Dtype  \n",
            "---  ------          --------------  -----  \n",
            " 0   Unnamed: 0      36 non-null     int64  \n",
            " 1   Participant No  36 non-null     int64  \n",
            " 2   Record Name     36 non-null     object \n",
            " 3   Gender          36 non-null     object \n",
            " 4   Smoking Status  36 non-null     object \n",
            " 5   BMI             36 non-null     float64\n",
            " 6   Age             36 non-null     int64  \n",
            " 7   reading         36 non-null     object \n",
            " 8   Day1            36 non-null     object \n",
            " 9   Day2            36 non-null     object \n",
            " 10  Day3            36 non-null     object \n",
            " 11  Day4            36 non-null     object \n",
            " 12  Day5            36 non-null     object \n",
            " 13  Day6            36 non-null     object \n",
            "dtypes: float64(1), int64(3), object(10)\n",
            "memory usage: 4.1+ KB\n"
          ],
          "name": "stdout"
        }
      ]
    },
    {
      "cell_type": "code",
      "metadata": {
        "colab": {
          "base_uri": "https://localhost:8080/"
        },
        "id": "R--TptKiUZ0m",
        "outputId": "30577631-9d29-4b40-d6b8-75e5fe1d04d1"
      },
      "source": [
        "data.isnull().sum()"
      ],
      "execution_count": null,
      "outputs": [
        {
          "output_type": "execute_result",
          "data": {
            "text/plain": [
              "Unnamed: 0        0\n",
              "Participant No    0\n",
              "Record Name       0\n",
              "Gender            0\n",
              "Smoking Status    0\n",
              "BMI               0\n",
              "Age               0\n",
              "reading           0\n",
              "Day1              0\n",
              "Day2              0\n",
              "Day3              0\n",
              "Day4              0\n",
              "Day5              0\n",
              "Day6              0\n",
              "dtype: int64"
            ]
          },
          "metadata": {
            "tags": []
          },
          "execution_count": 16
        }
      ]
    },
    {
      "cell_type": "code",
      "metadata": {
        "colab": {
          "base_uri": "https://localhost:8080/",
          "height": 297
        },
        "id": "GwuTQIKPG-0D",
        "outputId": "5ab35e57-d364-4aff-ee47-55f764710c90"
      },
      "source": [
        "data.describe()"
      ],
      "execution_count": null,
      "outputs": [
        {
          "output_type": "execute_result",
          "data": {
            "text/html": [
              "<div>\n",
              "<style scoped>\n",
              "    .dataframe tbody tr th:only-of-type {\n",
              "        vertical-align: middle;\n",
              "    }\n",
              "\n",
              "    .dataframe tbody tr th {\n",
              "        vertical-align: top;\n",
              "    }\n",
              "\n",
              "    .dataframe thead th {\n",
              "        text-align: right;\n",
              "    }\n",
              "</style>\n",
              "<table border=\"1\" class=\"dataframe\">\n",
              "  <thead>\n",
              "    <tr style=\"text-align: right;\">\n",
              "      <th></th>\n",
              "      <th>Unnamed: 0</th>\n",
              "      <th>Participant No</th>\n",
              "      <th>BMI</th>\n",
              "      <th>Age</th>\n",
              "    </tr>\n",
              "  </thead>\n",
              "  <tbody>\n",
              "    <tr>\n",
              "      <th>count</th>\n",
              "      <td>36.000000</td>\n",
              "      <td>36.000000</td>\n",
              "      <td>36.000000</td>\n",
              "      <td>36.000000</td>\n",
              "    </tr>\n",
              "    <tr>\n",
              "      <th>mean</th>\n",
              "      <td>17.500000</td>\n",
              "      <td>18.500000</td>\n",
              "      <td>23.136111</td>\n",
              "      <td>33.888889</td>\n",
              "    </tr>\n",
              "    <tr>\n",
              "      <th>std</th>\n",
              "      <td>10.535654</td>\n",
              "      <td>10.535654</td>\n",
              "      <td>2.756411</td>\n",
              "      <td>16.099295</td>\n",
              "    </tr>\n",
              "    <tr>\n",
              "      <th>min</th>\n",
              "      <td>0.000000</td>\n",
              "      <td>1.000000</td>\n",
              "      <td>17.900000</td>\n",
              "      <td>19.000000</td>\n",
              "    </tr>\n",
              "    <tr>\n",
              "      <th>25%</th>\n",
              "      <td>8.750000</td>\n",
              "      <td>9.750000</td>\n",
              "      <td>20.675000</td>\n",
              "      <td>20.750000</td>\n",
              "    </tr>\n",
              "    <tr>\n",
              "      <th>50%</th>\n",
              "      <td>17.500000</td>\n",
              "      <td>18.500000</td>\n",
              "      <td>23.400000</td>\n",
              "      <td>23.000000</td>\n",
              "    </tr>\n",
              "    <tr>\n",
              "      <th>75%</th>\n",
              "      <td>26.250000</td>\n",
              "      <td>27.250000</td>\n",
              "      <td>24.625000</td>\n",
              "      <td>45.000000</td>\n",
              "    </tr>\n",
              "    <tr>\n",
              "      <th>max</th>\n",
              "      <td>35.000000</td>\n",
              "      <td>36.000000</td>\n",
              "      <td>28.400000</td>\n",
              "      <td>70.000000</td>\n",
              "    </tr>\n",
              "  </tbody>\n",
              "</table>\n",
              "</div>"
            ],
            "text/plain": [
              "       Unnamed: 0  Participant No        BMI        Age\n",
              "count   36.000000       36.000000  36.000000  36.000000\n",
              "mean    17.500000       18.500000  23.136111  33.888889\n",
              "std     10.535654       10.535654   2.756411  16.099295\n",
              "min      0.000000        1.000000  17.900000  19.000000\n",
              "25%      8.750000        9.750000  20.675000  20.750000\n",
              "50%     17.500000       18.500000  23.400000  23.000000\n",
              "75%     26.250000       27.250000  24.625000  45.000000\n",
              "max     35.000000       36.000000  28.400000  70.000000"
            ]
          },
          "metadata": {
            "tags": []
          },
          "execution_count": 17
        }
      ]
    },
    {
      "cell_type": "code",
      "metadata": {
        "colab": {
          "base_uri": "https://localhost:8080/"
        },
        "id": "JSkv6hdzenyr",
        "outputId": "386430c6-aeb3-4765-d69b-aec5daa83acc"
      },
      "source": [
        "print(\"Number of Readings\",len(data['reading'][0]))\r\n",
        "print(\"Number of Readings in Day 1\",len(data['Day1'][0]))\r\n",
        "print(\"Number of Readings in Day 2\",len(data['Day2'][0]))\r\n",
        "print(\"Number of Readings in Day 3\",len(data['Day3'][0]))\r\n",
        "print(\"Number of Readings in Day 4\",len(data['Day4'][0]))\r\n",
        "print(\"Number of Readings in Day 5\",len(data['Day5'][0]))\r\n",
        "print(\"Number of Readings in Day 6\",len(data['Day6'][0]))"
      ],
      "execution_count": null,
      "outputs": [
        {
          "output_type": "stream",
          "text": [
            "Number of Readings 21642\n",
            "Number of Readings in Day 1 3606\n",
            "Number of Readings in Day 2 3606\n",
            "Number of Readings in Day 3 3606\n",
            "Number of Readings in Day 4 3606\n",
            "Number of Readings in Day 5 3606\n",
            "Number of Readings in Day 6 3612\n"
          ],
          "name": "stdout"
        }
      ]
    },
    {
      "cell_type": "code",
      "metadata": {
        "id": "tyIXTXRmLW4a",
        "colab": {
          "base_uri": "https://localhost:8080/",
          "height": 289
        },
        "outputId": "f428baa5-0e29-461b-b7f0-0090a02486d1"
      },
      "source": [
        "# plt.figure(figsize=(16, 10))\r\n",
        "plt.bar(data['Gender'], data['Age'],color='maroon',width=0.5)\r\n",
        "# plt.title('')\r\n",
        "plt.xlabel('Gender',size=15)\r\n",
        "plt.ylabel('Age',size=15)\r\n",
        "plt.xticks(size=15)\r\n",
        "plt.yticks(size=15)\r\n",
        "plt.show()\r\n"
      ],
      "execution_count": null,
      "outputs": [
        {
          "output_type": "display_data",
          "data": {
            "image/png": "[encoded data removed]",
            "text/plain": [
              "<Figure size 432x288 with 1 Axes>"
            ]
          },
          "metadata": {
            "tags": [],
            "needs_background": "light"
          }
        }
      ]
    },
    {
      "cell_type": "code",
      "metadata": {
        "colab": {
          "base_uri": "https://localhost:8080/",
          "height": 289
        },
        "id": "gSJBUfGVU607",
        "outputId": "6d6bdbdf-0d70-4d81-81eb-67fed85f563a"
      },
      "source": [
        "plt.figure(figsize=(9, 4))\r\n",
        "plt.bar(data['Smoking Status'], data['Age'],color='maroon',width=0.4)\r\n",
        "# plt.title('')\r\n",
        "plt.xlabel('Smoking Status',size=15)\r\n",
        "plt.ylabel('Age',size=15)\r\n",
        "plt.xticks(size=15)\r\n",
        "plt.yticks(size=15)\r\n",
        "plt.show()\r\n"
      ],
      "execution_count": null,
      "outputs": [
        {
          "output_type": "display_data",
          "data": {
            "image/png": "[encoded data removed]",
            "text/plain": [
              "<Figure size 648x288 with 1 Axes>"
            ]
          },
          "metadata": {
            "tags": [],
            "needs_background": "light"
          }
        }
      ]
    },
    {
      "cell_type": "code",
      "metadata": {
        "colab": {
          "base_uri": "https://localhost:8080/",
          "height": 289
        },
        "id": "kcYWDGOtU7C8",
        "outputId": "805b2046-237b-4ed9-fc7f-d314c09aa631"
      },
      "source": [
        "# plt.figure(figsize=(16, 10))\r\n",
        "plt.bar(data['Gender'], data['BMI'],color='maroon',width=0.5)\r\n",
        "# plt.title('')\r\n",
        "plt.xlabel('Gender',size=15)\r\n",
        "plt.ylabel('BMI',size=15)\r\n",
        "plt.xticks(size=15)\r\n",
        "plt.yticks(size=15)\r\n",
        "plt.show()\r\n"
      ],
      "execution_count": null,
      "outputs": [
        {
          "output_type": "display_data",
          "data": {
            "image/png": "[encoded data removed]",
            "text/plain": [
              "<Figure size 432x288 with 1 Axes>"
            ]
          },
          "metadata": {
            "tags": [],
            "needs_background": "light"
          }
        }
      ]
    },
    {
      "cell_type": "code",
      "metadata": {
        "colab": {
          "base_uri": "https://localhost:8080/",
          "height": 296
        },
        "id": "hKSbOtAWt4xU",
        "outputId": "6545aa75-8505-4dd5-a620-5dcff508bcb4"
      },
      "source": [
        "plt.hist(data['BMI'],bins=10)\r\n",
        "plt.xlabel('BMI Count')"
      ],
      "execution_count": null,
      "outputs": [
        {
          "output_type": "execute_result",
          "data": {
            "text/plain": [
              "Text(0.5, 0, 'BMI Count')"
            ]
          },
          "metadata": {
            "tags": []
          },
          "execution_count": 22
        },
        {
          "output_type": "display_data",
          "data": {
            "image/png": "[encoded data removed]",
            "text/plain": [
              "<Figure size 432x288 with 1 Axes>"
            ]
          },
          "metadata": {
            "tags": [],
            "needs_background": "light"
          }
        }
      ]
    },
    {
      "cell_type": "code",
      "metadata": {
        "id": "FDUbzbW6UpIn"
      },
      "source": [
        ""
      ],
      "execution_count": null,
      "outputs": []
    },
    {
      "cell_type": "code",
      "metadata": {
        "id": "BgvZbClSGGlH"
      },
      "source": [
        "def forecast_pre_series(participant_no):\r\n",
        "  rows = data.shape[0]\r\n",
        "  participant_no = 1\r\n",
        "  all_reading = eval(data['reading'][data['Participant No']==participant_no].tolist()[0])\r\n",
        "  readings_length = len(all_reading)\r\n",
        "  readings_split_length = int(readings_length / 6)\r\n",
        "  last_day_times = len(all_reading[5*readings_split_length:])\r\n",
        "  times_index_pre = []\r\n",
        "  for i in range(1,8):\r\n",
        "    if i<=6:\r\n",
        "      index = pd.date_range(start=f'2020-11-0{i}',periods=readings_split_length, freq='1min')\r\n",
        "    elif i == 6:\r\n",
        "      index = pd.date_range(start=f'2020-11-0{i}',periods=last_day_times, freq='1min')\r\n",
        "    else:\r\n",
        "      index = pd.date_range(start=f'2020-11-0{i}',periods=6, freq='1min')\r\n",
        "    \r\n",
        "    times_index_pre.append(index)\r\n",
        "  \r\n",
        "  fore_place_holder = [0,0,0,0,0]\r\n",
        "  all_reading = all_reading + fore_place_holder\r\n",
        "  combined = times_index_pre[0].union(times_index_pre[1]).union(times_index_pre[2]).union(times_index_pre[3]).union(times_index_pre[4]).union(times_index_pre[5])\r\n",
        "  final_pre_series = pd.Series(all_reading, index =combined)\r\n",
        "  return final_pre_series, last_day_times"
      ],
      "execution_count": null,
      "outputs": []
    },
    {
      "cell_type": "code",
      "metadata": {
        "colab": {
          "base_uri": "https://localhost:8080/",
          "height": 163
        },
        "id": "oMfrcb1548Jd",
        "outputId": "8e3465ac-5e35-4e37-8d1d-e23bb8d33dc3"
      },
      "source": [
        "final_pre_series[-10:]"
      ],
      "execution_count": null,
      "outputs": [
        {
          "output_type": "error",
          "ename": "NameError",
          "evalue": "ignored",
          "traceback": [
            "\u001b[0;31m---------------------------------------------------------------------------\u001b[0m",
            "\u001b[0;31mNameError\u001b[0m                                 Traceback (most recent call last)",
            "\u001b[0;32m<ipython-input-36-f6f6fb4c0157>\u001b[0m in \u001b[0;36m<module>\u001b[0;34m()\u001b[0m\n\u001b[0;32m----> 1\u001b[0;31m \u001b[0mfinal_pre_series\u001b[0m\u001b[0;34m[\u001b[0m\u001b[0;36m10\u001b[0m\u001b[0;34m:\u001b[0m\u001b[0;34m]\u001b[0m\u001b[0;34m\u001b[0m\u001b[0;34m\u001b[0m\u001b[0m\n\u001b[0m",
            "\u001b[0;31mNameError\u001b[0m: name 'final_pre_series' is not defined"
          ]
        }
      ]
    },
    {
      "cell_type": "code",
      "metadata": {
        "id": "EzWoQPmiNSbO"
      },
      "source": [
        "from datetime import datetime, timedelta\r\n",
        "\r\n",
        "def prep_data(participant_no):\r\n",
        "  pre_series,last_day_length = forecast_pre_series(participant_no)\r\n",
        "  train_set = pre_series[:-607-5]\r\n",
        "  valid_set = pre_series[-607-5:-5]\r\n",
        "  test_set = pre_series[-607-5:]\r\n",
        "  y_pred = test_set.copy()\r\n",
        "\r\n",
        "  return train_set, valid_set, test_set, y_pred"
      ],
      "execution_count": null,
      "outputs": []
    },
    {
      "cell_type": "code",
      "metadata": {
        "colab": {
          "base_uri": "https://localhost:8080/",
          "height": 163
        },
        "id": "r5c-ejbzNR1A",
        "outputId": "bffafe63-477a-4dc3-b3c9-e47ca4f1cc6a"
      },
      "source": [
        "y_pred"
      ],
      "execution_count": null,
      "outputs": [
        {
          "output_type": "error",
          "ename": "NameError",
          "evalue": "ignored",
          "traceback": [
            "\u001b[0;31m---------------------------------------------------------------------------\u001b[0m",
            "\u001b[0;31mNameError\u001b[0m                                 Traceback (most recent call last)",
            "\u001b[0;32m<ipython-input-25-3aaf935e6aec>\u001b[0m in \u001b[0;36m<module>\u001b[0;34m()\u001b[0m\n\u001b[0;32m----> 1\u001b[0;31m \u001b[0my_pred\u001b[0m\u001b[0;34m\u001b[0m\u001b[0;34m\u001b[0m\u001b[0m\n\u001b[0m",
            "\u001b[0;31mNameError\u001b[0m: name 'y_pred' is not defined"
          ]
        }
      ]
    },
    {
      "cell_type": "code",
      "metadata": {
        "id": "L52y4cdGD9Wn"
      },
      "source": [
        "plt.subplot(3,2,1)\r\n",
        "labels()\r\n",
        "plt.title('Days1')\r\n",
        "plt.plot(x1, y1, label = 'Day1')\r\n",
        "plt.axhline(y = 90,color = 'r', linestyle = '--')\r\n",
        "\r\n",
        "plt.subplot(3,2,2)\r\n",
        "labels()\r\n",
        "plt.title('Days2')\r\n",
        "plt.plot(x2, y2, label = 'Day2')\r\n",
        "plt.axhline(y = 90, color = 'r', linestyle = '--')\r\n",
        "\r\n",
        "plt.subplot(3,2,3)\r\n",
        "plt.ylabel('SpO2')\r\n",
        "plt.title('Days3')\r\n",
        "plt.plot(x3, y3, label = 'Day3')\r\n",
        "plt.axhline(y = 90, color = 'r', linestyle = '--')\r\n",
        "\r\n",
        "plt.subplot(3,2,4)\r\n",
        "# labels()\r\n",
        "plt.title('Days4')\r\n",
        "plt.plot(x4, y4, label = 'Day4')\r\n",
        "plt.axhline(y = 90,color = 'r',linestyle = '--')\r\n",
        "\r\n",
        "plt.subplot(3,2,5)\r\n",
        "labels()\r\n",
        "plt.title('Days5')\r\n",
        "plt.plot(x5, y5, label = 'Day5')\r\n",
        "plt.axhline(y = 90, color = 'r', linestyle = '--')\r\n",
        "\r\n",
        "plt.subplot(3,2,6)\r\n",
        "plt.xlabel('seconds')\r\n",
        "plt.title('Days6')\r\n",
        "plt.plot(x6, y6, label = 'Day6')\r\n",
        "plt.axhline(y = 90, color = 'r', linestyle = '--')"
      ],
      "execution_count": null,
      "outputs": []
    },
    {
      "cell_type": "code",
      "metadata": {
        "id": "9AY29iusD9OC"
      },
      "source": [
        "plt_6days(32)"
      ],
      "execution_count": null,
      "outputs": []
    },
    {
      "cell_type": "code",
      "metadata": {
        "id": "PvVx_K6IX6Sy"
      },
      "source": [
        "def stat_values(day_number, days_reading):\r\n",
        "  arr = np.array(days_reading)\r\n",
        "  mean = round(np.mean(arr),2)\r\n",
        "  median = np.median(arr)\r\n",
        "  minim = np.amin(arr)\r\n",
        "  maxim = np.amax(arr)\r\n",
        "  std_dev = round(np.std(arr),2)\r\n",
        "  return [day_number, mean, median, minim, maxim, std_dev]"
      ],
      "execution_count": null,
      "outputs": []
    },
    {
      "cell_type": "code",
      "metadata": {
        "id": "poDNyXvKX7K7"
      },
      "source": [
        "def get_stats(participant_no):\r\n",
        "  complete_stat = []\r\n",
        "  for i in range(1,7):\r\n",
        "    complete_stat.append(stat_values(i,eval(data['Day'+str(i)][data['Participant No']==participant_no].tolist()[0])))\r\n",
        "  stats = pd.DataFrame(complete_stat, columns = ['Day_number', 'mean', 'median', 'minimum', 'maximum', 'deviation'])\r\n",
        "  print(stats)\r\n",
        "  return stats"
      ],
      "execution_count": null,
      "outputs": []
    },
    {
      "cell_type": "code",
      "metadata": {
        "id": "0iBqXVItcJ7q"
      },
      "source": [
        "def label(title='', xaxis='',yaxis=''):\r\n",
        "  return plt.title(title), plt.xlabel(xaxis), plt.ylabel(yaxis)\r\n",
        "def stat_plots(stats):\r\n",
        "  plt.figure(figsize = [12,8])\r\n",
        "\r\n",
        "  plt.subplot(221)\r\n",
        "  plt.plot(stats['Day_number'], stats['mean'])\r\n",
        "  label('mean', '', 'SpO2 level')\r\n",
        "\r\n",
        "  plt.subplot(222)\r\n",
        "  plt.plot(stats['Day_number'], stats['median'])\r\n",
        "  label('median', '', '')\r\n",
        "\r\n",
        "  plt.subplot(223)\r\n",
        "  plt.plot(stats['Day_number'], stats['minimun'])\r\n",
        "  label('minimum', 'days', 'SpO2 level')\r\n",
        "\r\n",
        "  plt.subplot(224)\r\n",
        "  plt.plot(stats['Day_number'], stats['maximum'])\r\n",
        "  label('maximum', 'days', 'SpO2 level')"
      ],
      "execution_count": null,
      "outputs": []
    },
    {
      "cell_type": "code",
      "metadata": {
        "id": "C4rAJVnSX7oj"
      },
      "source": [
        "participant_no = 1\r\n",
        "stats = get_stats(participant_no)\r\n",
        "stat_plots(stats)"
      ],
      "execution_count": null,
      "outputs": []
    },
    {
      "cell_type": "code",
      "metadata": {
        "id": "LrNOmvtMX7rY"
      },
      "source": [
        ""
      ],
      "execution_count": null,
      "outputs": []
    },
    {
      "cell_type": "code",
      "metadata": {
        "id": "DFkYxj0HD9FA"
      },
      "source": [
        ""
      ],
      "execution_count": null,
      "outputs": []
    }
  ]
}